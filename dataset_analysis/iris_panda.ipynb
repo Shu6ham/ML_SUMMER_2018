{
 "cells": [
  {
   "cell_type": "code",
   "execution_count": 1,
   "metadata": {},
   "outputs": [],
   "source": [
    "import csv\n",
    "import pandas as pd"
   ]
  },
  {
   "cell_type": "code",
   "execution_count": 10,
   "metadata": {},
   "outputs": [],
   "source": [
    "with open('/home/shubham/Desktop/DataSets/Iris.csv','r') as readfile:\n",
    "    file_reader=csv.reader(readfile)\n",
    "    read=[]\n",
    "    for row in file_reader:\n",
    "        if len(row)!=0 :\n",
    "            read=read+[row]\n",
    "readfile.close()\n",
    "        "
   ]
  },
  {
   "cell_type": "code",
   "execution_count": 14,
   "metadata": {},
   "outputs": [
    {
     "name": "stdout",
     "output_type": "stream",
     "text": [
      "0      SepalLengthCm\n",
      "1                5.1\n",
      "2                4.9\n",
      "3                4.7\n",
      "4                4.6\n",
      "5                  5\n",
      "6                5.4\n",
      "7                4.6\n",
      "8                  5\n",
      "9                4.4\n",
      "10               4.9\n",
      "11               5.4\n",
      "12               4.8\n",
      "13               4.8\n",
      "14               4.3\n",
      "15               5.8\n",
      "16               5.7\n",
      "17               5.4\n",
      "18               5.1\n",
      "19               5.7\n",
      "20               5.1\n",
      "21               5.4\n",
      "22               5.1\n",
      "23               4.6\n",
      "24               5.1\n",
      "25               4.8\n",
      "26                 5\n",
      "27                 5\n",
      "28               5.2\n",
      "29               5.2\n",
      "           ...      \n",
      "121              6.9\n",
      "122              5.6\n",
      "123              7.7\n",
      "124              6.3\n",
      "125              6.7\n",
      "126              7.2\n",
      "127              6.2\n",
      "128              6.1\n",
      "129              6.4\n",
      "130              7.2\n",
      "131              7.4\n",
      "132              7.9\n",
      "133              6.4\n",
      "134              6.3\n",
      "135              6.1\n",
      "136              7.7\n",
      "137              6.3\n",
      "138              6.4\n",
      "139                6\n",
      "140              6.9\n",
      "141              6.7\n",
      "142              6.9\n",
      "143              5.8\n",
      "144              6.8\n",
      "145              6.7\n",
      "146              6.7\n",
      "147              6.3\n",
      "148              6.5\n",
      "149              6.2\n",
      "150              5.9\n",
      "Name: 1, Length: 151, dtype: object\n"
     ]
    }
   ],
   "source": [
    "df=pd.DataFrame(read)\n",
    "print(df[1])"
   ]
  },
  {
   "cell_type": "code",
   "execution_count": null,
   "metadata": {},
   "outputs": [],
   "source": []
  }
 ],
 "metadata": {
  "kernelspec": {
   "display_name": "Python 3",
   "language": "python",
   "name": "python3"
  },
  "language_info": {
   "codemirror_mode": {
    "name": "ipython",
    "version": 3
   },
   "file_extension": ".py",
   "mimetype": "text/x-python",
   "name": "python",
   "nbconvert_exporter": "python",
   "pygments_lexer": "ipython3",
   "version": "3.5.2"
  }
 },
 "nbformat": 4,
 "nbformat_minor": 2
}
