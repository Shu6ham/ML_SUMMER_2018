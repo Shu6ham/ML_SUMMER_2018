{
 "cells": [
  {
   "cell_type": "code",
   "execution_count": 89,
   "metadata": {},
   "outputs": [],
   "source": [
    "#!/usr/bin/python3\n",
    "import numpy as np\n",
    "from sympy.solvers import solve\n",
    "from sympy import *\n",
    "from sympy import symbols\n",
    "from statistics import mean\n",
    "import matplotlib.pyplot as plt\n",
    "import math"
   ]
  },
  {
   "cell_type": "code",
   "execution_count": 72,
   "metadata": {},
   "outputs": [],
   "source": [
    "a=np.array([1,2,3,4,5,6,7])\n",
    "b=np.array([2,4,7,9,9,14,16])\n",
    "\n",
    "m=symbols('m')\n",
    "c=symbols('c')"
   ]
  },
  {
   "cell_type": "code",
   "execution_count": 73,
   "metadata": {},
   "outputs": [
    {
     "name": "stdout",
     "output_type": "stream",
     "text": [
      "(-c - 7*m + 16)**2/(c**2 + m**2) + (-c - 6*m + 14)**2/(c**2 + m**2) + (-c - 5*m + 9)**2/(c**2 + m**2) + (-c - 4*m + 9)**2/(c**2 + m**2) + (-c - 3*m + 7)**2/(c**2 + m**2) + (-c - 2*m + 4)**2/(c**2 + m**2) + (-c - m + 2)**2/(c**2 + m**2)\n"
     ]
    }
   ],
   "source": [
    "s=0\n",
    "for i in range(0,len(a)):\n",
    "    temp=(((b[i]-m*a[i]-c)**2)/(m**2+c**2))\n",
    "    s=s+temp\n",
    "print(s)"
   ]
  },
  {
   "cell_type": "code",
   "execution_count": 74,
   "metadata": {},
   "outputs": [
    {
     "name": "stdout",
     "output_type": "stream",
     "text": [
      "-2*m*(-c - 7*m + 16)**2/(c**2 + m**2)**2 - 2*m*(-c - 6*m + 14)**2/(c**2 + m**2)**2 - 2*m*(-c - 5*m + 9)**2/(c**2 + m**2)**2 - 2*m*(-c - 4*m + 9)**2/(c**2 + m**2)**2 - 2*m*(-c - 3*m + 7)**2/(c**2 + m**2)**2 - 2*m*(-c - 2*m + 4)**2/(c**2 + m**2)**2 - 2*m*(-c - m + 2)**2/(c**2 + m**2)**2 + (2*c + 2*m - 4)/(c**2 + m**2) + (4*c + 8*m - 16)/(c**2 + m**2) + (6*c + 18*m - 42)/(c**2 + m**2) + (8*c + 32*m - 72)/(c**2 + m**2) + (10*c + 50*m - 90)/(c**2 + m**2) + (12*c + 72*m - 168)/(c**2 + m**2) + (14*c + 98*m - 224)/(c**2 + m**2)\n"
     ]
    }
   ],
   "source": [
    "sprime=s.diff(m)\n",
    "print(sprime)\n"
   ]
  },
  {
   "cell_type": "code",
   "execution_count": 75,
   "metadata": {},
   "outputs": [],
   "source": [
    "temp1=solve(sprime,m)"
   ]
  },
  {
   "cell_type": "code",
   "execution_count": 76,
   "metadata": {},
   "outputs": [
    {
     "ename": "TypeError",
     "evalue": "cannot determine truth value of Relational",
     "output_type": "error",
     "traceback": [
      "\u001b[0;31m---------------------------------------------------------------------------\u001b[0m",
      "\u001b[0;31mTypeError\u001b[0m                                 Traceback (most recent call last)",
      "\u001b[0;32m<ipython-input-76-9bb9c128aad9>\u001b[0m in \u001b[0;36m<module>\u001b[0;34m()\u001b[0m\n\u001b[0;32m----> 1\u001b[0;31m \u001b[0;32mif\u001b[0m \u001b[0ms\u001b[0m\u001b[0;34m.\u001b[0m\u001b[0msubs\u001b[0m\u001b[0;34m(\u001b[0m\u001b[0mdict\u001b[0m\u001b[0;34m(\u001b[0m\u001b[0mm\u001b[0m\u001b[0;34m=\u001b[0m\u001b[0mtemp1\u001b[0m\u001b[0;34m[\u001b[0m\u001b[0;36m0\u001b[0m\u001b[0;34m]\u001b[0m\u001b[0;34m)\u001b[0m\u001b[0;34m)\u001b[0m\u001b[0;34m>\u001b[0m\u001b[0ms\u001b[0m\u001b[0;34m.\u001b[0m\u001b[0msubs\u001b[0m\u001b[0;34m(\u001b[0m\u001b[0mdict\u001b[0m\u001b[0;34m(\u001b[0m\u001b[0mm\u001b[0m\u001b[0;34m=\u001b[0m\u001b[0mtemp1\u001b[0m\u001b[0;34m[\u001b[0m\u001b[0;36m1\u001b[0m\u001b[0;34m]\u001b[0m\u001b[0;34m)\u001b[0m\u001b[0;34m)\u001b[0m\u001b[0;34m:\u001b[0m\u001b[0;34m\u001b[0m\u001b[0m\n\u001b[0m\u001b[1;32m      2\u001b[0m     \u001b[0mslope\u001b[0m\u001b[0;34m=\u001b[0m\u001b[0mtemp1\u001b[0m\u001b[0;34m[\u001b[0m\u001b[0;36m1\u001b[0m\u001b[0;34m]\u001b[0m\u001b[0;34m\u001b[0m\u001b[0m\n\u001b[1;32m      3\u001b[0m \u001b[0;32melse\u001b[0m\u001b[0;34m:\u001b[0m\u001b[0;34m\u001b[0m\u001b[0m\n\u001b[1;32m      4\u001b[0m     \u001b[0mslope\u001b[0m\u001b[0;34m=\u001b[0m\u001b[0mtemp1\u001b[0m\u001b[0;34m[\u001b[0m\u001b[0;36m0\u001b[0m\u001b[0;34m]\u001b[0m\u001b[0;34m\u001b[0m\u001b[0m\n",
      "\u001b[0;32m~/.local/lib/python3.5/site-packages/sympy/core/relational.py\u001b[0m in \u001b[0;36m__nonzero__\u001b[0;34m(self)\u001b[0m\n\u001b[1;32m    193\u001b[0m \u001b[0;34m\u001b[0m\u001b[0m\n\u001b[1;32m    194\u001b[0m     \u001b[0;32mdef\u001b[0m \u001b[0m__nonzero__\u001b[0m\u001b[0;34m(\u001b[0m\u001b[0mself\u001b[0m\u001b[0;34m)\u001b[0m\u001b[0;34m:\u001b[0m\u001b[0;34m\u001b[0m\u001b[0m\n\u001b[0;32m--> 195\u001b[0;31m         \u001b[0;32mraise\u001b[0m \u001b[0mTypeError\u001b[0m\u001b[0;34m(\u001b[0m\u001b[0;34m\"cannot determine truth value of Relational\"\u001b[0m\u001b[0;34m)\u001b[0m\u001b[0;34m\u001b[0m\u001b[0m\n\u001b[0m\u001b[1;32m    196\u001b[0m \u001b[0;34m\u001b[0m\u001b[0m\n\u001b[1;32m    197\u001b[0m     \u001b[0m__bool__\u001b[0m \u001b[0;34m=\u001b[0m \u001b[0m__nonzero__\u001b[0m\u001b[0;34m\u001b[0m\u001b[0m\n",
      "\u001b[0;31mTypeError\u001b[0m: cannot determine truth value of Relational"
     ]
    }
   ],
   "source": [
    "if s.subs(dict(m=temp1[0]))>s.subs(dict(m=temp1[1])):\n",
    "    slope=temp1[1]\n",
    "else:\n",
    "    slope=temp1[0]"
   ]
  },
  {
   "cell_type": "code",
   "execution_count": 77,
   "metadata": {},
   "outputs": [
    {
     "name": "stdout",
     "output_type": "stream",
     "text": [
      "sqrt(5233)/128 + 281/128\n"
     ]
    }
   ],
   "source": [
    "print(slope)"
   ]
  },
  {
   "cell_type": "code",
   "execution_count": 78,
   "metadata": {},
   "outputs": [
    {
     "name": "stdout",
     "output_type": "stream",
     "text": [
      "-sqrt(5233)/32 - 25/32\n"
     ]
    }
   ],
   "source": [
    "intercept=mean(b)-slope*mean(a)\n",
    "print(intercept)"
   ]
  },
  {
   "cell_type": "code",
   "execution_count": 79,
   "metadata": {},
   "outputs": [
    {
     "data": {
      "image/png": "[encoded data removed]",
      "text/plain": [
       "<Figure size 432x288 with 1 Axes>"
      ]
     },
     "metadata": {},
     "output_type": "display_data"
    }
   ],
   "source": [
    "plt.scatter(a,b)\n",
    "output=[(slope*i+intercept) for i in a]\n",
    "plt.plot(a,output)\n",
    "plt.show()\n"
   ]
  },
  {
   "cell_type": "code",
   "execution_count": 80,
   "metadata": {},
   "outputs": [
    {
     "name": "stdout",
     "output_type": "stream",
     "text": [
      "9.083717341601707\n"
     ]
    }
   ],
   "source": [
    "d=0\n",
    "for i in range(0,len(a)):\n",
    "    d+=abs(output[i]-b[i])\n",
    "\n",
    "print(float(d))\n",
    "    "
   ]
  },
  {
   "cell_type": "code",
   "execution_count": 81,
   "metadata": {},
   "outputs": [
    {
     "name": "stdout",
     "output_type": "stream",
     "text": [
      "-0.28139400310063983\n",
      "2.4790706645995733\n",
      "5.239535332299787\n",
      "8.0\n",
      "10.760464667700214\n",
      "13.520929335400426\n",
      "16.28139400310064\n"
     ]
    }
   ],
   "source": [
    "for i in output:\n",
    "    print(float(i))"
   ]
  },
  {
   "cell_type": "code",
   "execution_count": 82,
   "metadata": {},
   "outputs": [
    {
     "name": "stdout",
     "output_type": "stream",
     "text": [
      "(-c - 7*m + 16)**2 + (-c - 6*m + 14)**2 + (-c - 5*m + 9)**2 + (-c - 4*m + 9)**2 + (-c - 3*m + 7)**2 + (-c - 2*m + 4)**2 + (-c - m + 2)**2\n"
     ]
    }
   ],
   "source": [
    "s=0\n",
    "for i in range(0,len(a)):\n",
    "    temp=((b[i]-m*a[i]-c)**2)\n",
    "    s=s+temp\n",
    "print(s)"
   ]
  },
  {
   "cell_type": "code",
   "execution_count": 83,
   "metadata": {},
   "outputs": [
    {
     "name": "stdout",
     "output_type": "stream",
     "text": [
      "56*c + 280*m - 616\n"
     ]
    }
   ],
   "source": [
    "sprime=s.diff(m)\n",
    "print(sprime)\n"
   ]
  },
  {
   "cell_type": "code",
   "execution_count": 84,
   "metadata": {},
   "outputs": [
    {
     "name": "stdout",
     "output_type": "stream",
     "text": [
      "[-c/5 + 11/5]\n"
     ]
    }
   ],
   "source": [
    "temp1=solve(sprime,m)\n",
    "print(temp1)\n"
   ]
  },
  {
   "cell_type": "code",
   "execution_count": 85,
   "metadata": {},
   "outputs": [
    {
     "name": "stdout",
     "output_type": "stream",
     "text": [
      "[-4]\n"
     ]
    }
   ],
   "source": [
    "intercept=solve((mean(a)*temp1[0]+c-mean(b)),c)\n",
    "print(intercept)"
   ]
  },
  {
   "cell_type": "code",
   "execution_count": 88,
   "metadata": {},
   "outputs": [
    {
     "name": "stdout",
     "output_type": "stream",
     "text": [
      "11.0\n"
     ]
    }
   ],
   "source": [
    "output=[((3)*i+intercept) for i in a]\n",
    "\n",
    "d=0\n",
    "for i in range(0,len(a)):\n",
    "    d+=abs(output[i]-b[i])\n",
    "\n",
    "print(float(d))\n",
    "    "
   ]
  },
  {
   "cell_type": "code",
   "execution_count": 86,
   "metadata": {},
   "outputs": [
    {
     "data": {
      "text/plain": [
       "4"
      ]
     },
     "execution_count": 86,
     "metadata": {},
     "output_type": "execute_result"
    }
   ],
   "source": [
    "mean(a)"
   ]
  },
  {
   "cell_type": "code",
   "execution_count": null,
   "metadata": {},
   "outputs": [],
   "source": []
  },
  {
   "cell_type": "code",
   "execution_count": 87,
   "metadata": {},
   "outputs": [
    {
     "data": {
      "text/plain": [
       "8"
      ]
     },
     "execution_count": 87,
     "metadata": {},
     "output_type": "execute_result"
    }
   ],
   "source": [
    "mean(b)"
   ]
  },
  {
   "cell_type": "code",
   "execution_count": 91,
   "metadata": {},
   "outputs": [
    {
     "name": "stdout",
     "output_type": "stream",
     "text": [
      "(-c - 7*m + 16)**2\n"
     ]
    }
   ],
   "source": [
    "s=0\n",
    "for i in range(0,len(a)):\n",
    "    temp=((b[i]-m*a[i]-c)**2)\n",
    "    s=s+temp\n",
    "print(temp)"
   ]
  },
  {
   "cell_type": "code",
   "execution_count": null,
   "metadata": {},
   "outputs": [],
   "source": []
  }
 ],
 "metadata": {
  "kernelspec": {
   "display_name": "Python 3",
   "language": "python",
   "name": "python3"
  },
  "language_info": {
   "codemirror_mode": {
    "name": "ipython",
    "version": 3
   },
   "file_extension": ".py",
   "mimetype": "text/x-python",
   "name": "python",
   "nbconvert_exporter": "python",
   "pygments_lexer": "ipython3",
   "version": "3.5.2"
  }
 },
 "nbformat": 4,
 "nbformat_minor": 2
}
