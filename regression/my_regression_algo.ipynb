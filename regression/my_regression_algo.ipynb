{
 "cells": [
  {
   "cell_type": "code",
   "execution_count": 3,
   "metadata": {},
   "outputs": [],
   "source": [
    "#!/usr/bin/python3\n",
    "# All imports\n",
    "import numpy as np\n",
    "from sympy.solvers import solve\n",
    "from sympy import *\n",
    "from sympy import symbols\n",
    "from statistics import mean\n",
    "import matplotlib.pyplot as plt\n",
    "import math"
   ]
  },
  {
   "cell_type": "code",
   "execution_count": null,
   "metadata": {},
   "outputs": [],
   "source": []
  },
  {
   "cell_type": "code",
   "execution_count": 4,
   "metadata": {},
   "outputs": [],
   "source": [
    "#datasets\n",
    "a=np.array([1,2,3,4,5,6,7,8])\n",
    "b=np.array([1,4,9,16,25,36,49,64])\n",
    "\n",
    "#Take intercept as variable ysing sympy\n",
    "c=symbols('c')\n"
   ]
  },
  {
   "cell_type": "code",
   "execution_count": 5,
   "metadata": {},
   "outputs": [
    {
     "name": "stdout",
     "output_type": "stream",
     "text": [
      "9.0\n"
     ]
    }
   ],
   "source": [
    "# Function for slope\n",
    "def slope(x1,y1,x2,y2):\n",
    "\tm=(y2-y1)/(x2-x1)\n",
    "\treturn m\n",
    "\n",
    "# Mean slope for data set\n",
    "total_slope=0\n",
    "for i in range(0,len(a)-1):\n",
    "\ttotal_slope+=(slope(a[i],b[i],a[i+1],b[i+1]))\n",
    "\n",
    "mean_slope=total_slope/(len(a)-1)\n",
    "print(mean_slope)"
   ]
  },
  {
   "cell_type": "code",
   "execution_count": 6,
   "metadata": {},
   "outputs": [
    {
     "name": "stdout",
     "output_type": "stream",
     "text": [
      "2*(-c - 20.0)**2 + 2*(-c - 18.0)**2 + 2*(-c - 14.0)**2 + 2*(-c - 8.0)**2\n"
     ]
    }
   ],
   "source": [
    "# Calculating distance of points from line and minimize it\n",
    "dist=0\n",
    "for i in range(0,len(a)):\n",
    "    dist+=(b[i]-mean_slope*a[i]-c)**2\n",
    "# Squaring for not canceling of positive and negative distance \n",
    "print(dist)"
   ]
  },
  {
   "cell_type": "code",
   "execution_count": 9,
   "metadata": {},
   "outputs": [
    {
     "name": "stdout",
     "output_type": "stream",
     "text": [
      "16*c + 240.0\n",
      "[-15.0000000000000]\n"
     ]
    }
   ],
   "source": [
    "# Differentiation of total distance w.r.t 'c' to get minimum distance \n",
    "print(dist.diff(c))\n",
    "intercept=solve(dist.diff(c),c)\n",
    "print(intercept)"
   ]
  },
  {
   "cell_type": "code",
   "execution_count": 10,
   "metadata": {},
   "outputs": [
    {
     "data": {
      "image/png": "[encoded data removed]",
      "text/plain": [
       "<Figure size 432x288 with 1 Axes>"
      ]
     },
     "metadata": {},
     "output_type": "display_data"
    }
   ],
   "source": [
    "plt.scatter(a,b)\n",
    "output=[(mean_slope*i+intercept) for i in a]\n",
    "plt.plot(a,output)\n",
    "plt.show()\n"
   ]
  },
  {
   "cell_type": "code",
   "execution_count": 11,
   "metadata": {},
   "outputs": [
    {
     "name": "stdout",
     "output_type": "stream",
     "text": [
      "[32.0000000000000]\n"
     ]
    }
   ],
   "source": [
    "# calculate distance b/w new and old points to check accuracy\n",
    "distance=0\n",
    "for i in range(0,len(a)):\n",
    "    distance+=abs(output[i]-b[i])\n",
    "\n",
    "print(distance)\n",
    "    "
   ]
  },
  {
   "cell_type": "code",
   "execution_count": null,
   "metadata": {},
   "outputs": [],
   "source": []
  },
  {
   "cell_type": "code",
   "execution_count": null,
   "metadata": {},
   "outputs": [],
   "source": []
  }
 ],
 "metadata": {
  "kernelspec": {
   "display_name": "Python 3",
   "language": "python",
   "name": "python3"
  },
  "language_info": {
   "codemirror_mode": {
    "name": "ipython",
    "version": 3
   },
   "file_extension": ".py",
   "mimetype": "text/x-python",
   "name": "python",
   "nbconvert_exporter": "python",
   "pygments_lexer": "ipython3",
   "version": "3.5.2"
  }
 },
 "nbformat": 4,
 "nbformat_minor": 2
}
