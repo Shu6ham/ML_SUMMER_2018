{
 "cells": [
  {
   "cell_type": "code",
   "execution_count": 23,
   "metadata": {},
   "outputs": [],
   "source": [
    "#!/usr/bin/python3\n",
    "import numpy as np\n",
    "from sympy.solvers import solve\n",
    "from sympy import *\n",
    "from sympy import symbols\n",
    "from statistics import mean\n"
   ]
  },
  {
   "cell_type": "code",
   "execution_count": 24,
   "metadata": {},
   "outputs": [
    {
     "name": "stdout",
     "output_type": "stream",
     "text": [
      "-4*m + 8\n"
     ]
    }
   ],
   "source": [
    "a=np.array([1,2,3,4,5,6,7])\n",
    "b=np.array([2,4,7,9,9,14,16])\n",
    "\n",
    "m=symbols('m')\n",
    "c=mean(b)-m*mean(a)print \n",
    "\n",
    "print(c)"
   ]
  },
  {
   "cell_type": "code",
   "execution_count": 25,
   "metadata": {},
   "outputs": [
    {
     "name": "stdout",
     "output_type": "stream",
     "text": [
      "(-3*m + 8)**2/(m**2 + (-4*m + 8)**2) + (-2*m + 6)**2/(m**2 + (-4*m + 8)**2) + (-m + 1)**2/(m**2 + (-4*m + 8)**2) + (m - 1)**2/(m**2 + (-4*m + 8)**2) + (2*m - 4)**2/(m**2 + (-4*m + 8)**2) + (3*m - 6)**2/(m**2 + (-4*m + 8)**2) + 1/(m**2 + (-4*m + 8)**2)\n"
     ]
    }
   ],
   "source": [
    "s=0\n",
    "for i in range(0,len(a)):\n",
    "    temp=(((b[i]-m*a[i]-c)**2)/(m**2+c**2))\n",
    "    s=s+temp\n",
    "print(s)"
   ]
  },
  {
   "cell_type": "code",
   "execution_count": null,
   "metadata": {},
   "outputs": [],
   "source": [
    "sprime=s.diff(m)\n"
   ]
  },
  {
   "cell_type": "code",
   "execution_count": null,
   "metadata": {},
   "outputs": [],
   "source": []
  }
 ],
 "metadata": {
  "kernelspec": {
   "display_name": "Python 3",
   "language": "python",
   "name": "python3"
  },
  "language_info": {
   "codemirror_mode": {
    "name": "ipython",
    "version": 3
   },
   "file_extension": ".py",
   "mimetype": "text/x-python",
   "name": "python",
   "nbconvert_exporter": "python",
   "pygments_lexer": "ipython3",
   "version": "3.5.2"
  }
 },
 "nbformat": 4,
 "nbformat_minor": 2
}
